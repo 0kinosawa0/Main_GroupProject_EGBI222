{
  "nbformat": 4,
  "nbformat_minor": 0,
  "metadata": {
    "colab": {
      "provenance": [],
      "authorship_tag": "ABX9TyNBsTm+hLrtBAx/7gXv5Nb+",
      "include_colab_link": true
    },
    "kernelspec": {
      "name": "python3",
      "display_name": "Python 3"
    },
    "language_info": {
      "name": "python"
    }
  },
  "cells": [
    {
      "cell_type": "markdown",
      "metadata": {
        "id": "view-in-github",
        "colab_type": "text"
      },
      "source": [
        "<a href=\"https://colab.research.google.com/github/0kinosawa0/Main_GroupProject_EGBI222/blob/main/Untitled0.ipynb\" target=\"_parent\"><img src=\"https://colab.research.google.com/assets/colab-badge.svg\" alt=\"Open In Colab\"/></a>"
      ]
    },
    {
      "cell_type": "code",
      "execution_count": 1,
      "metadata": {
        "colab": {
          "base_uri": "https://localhost:8080/"
        },
        "id": "pGCvaQatmkl-",
        "outputId": "c2bdbf03-950a-49d6-f628-1404e5e4fcc6"
      },
      "outputs": [
        {
          "output_type": "stream",
          "name": "stdout",
          "text": [
            "Mounted at /content/drive/\n"
          ]
        }
      ],
      "source": [
        "from google.colab import drive\n",
        "drive.mount('/content/drive/')"
      ]
    },
    {
      "cell_type": "code",
      "source": [
        "import nbformat\n",
        "First_path=\"/content/drive/MyDrive/ไอ้หัวควย/ไอ้หน้าโง่.ipynb\"\n",
        "Second_path=\"/content/drive/MyDrive/ไอ้หัวควย/EGBI222_Group_Project.ipynb\"\n",
        "nb = nbformat.read(First_path, as_version=4)\n",
        "if \"widgets\" in nb.get(\"metadata\",{}):\n",
        "  del nb[\"metadata\"][\"widgets\"]\n",
        "nbformat.write(nb, Second_path)\n",
        "print(\"เสร็จเเย้ววววววว\")"
      ],
      "metadata": {
        "colab": {
          "base_uri": "https://localhost:8080/"
        },
        "id": "tYxPNyOQnEsa",
        "outputId": "0d4859d3-8dfc-4273-8940-9f6c8596e0ac"
      },
      "execution_count": 3,
      "outputs": [
        {
          "output_type": "stream",
          "name": "stdout",
          "text": [
            "เสร็จเเย้ววววววว\n"
          ]
        }
      ]
    }
  ]
}